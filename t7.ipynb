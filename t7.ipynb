{
  "nbformat": 4,
  "nbformat_minor": 0,
  "metadata": {
    "colab": {
      "provenance": [],
      "include_colab_link": true
    },
    "kernelspec": {
      "name": "python3",
      "display_name": "Python 3"
    },
    "language_info": {
      "name": "python"
    }
  },
  "cells": [
    {
      "cell_type": "markdown",
      "metadata": {
        "id": "view-in-github",
        "colab_type": "text"
      },
      "source": [
        "<a href=\"https://colab.research.google.com/github/ta7er-Alalfi/T7-/blob/main/t7.ipynb\" target=\"_parent\"><img src=\"https://colab.research.google.com/assets/colab-badge.svg\" alt=\"Open In Colab\"/></a>"
      ]
    },
    {
      "cell_type": "markdown",
      "source": [
        "Add Hello World from Taher\n",
        "\n"
      ],
      "metadata": {
        "id": "2Z7Aq-irFOtj"
      }
    },
    {
      "cell_type": "code",
      "execution_count": null,
      "metadata": {
        "colab": {
          "base_uri": "https://localhost:8080/"
        },
        "id": "CbJfJu9CChGg",
        "outputId": "70650a47-6fa8-4073-93c6-718ca0a456f2"
      },
      "outputs": [
        {
          "output_type": "stream",
          "name": "stdout",
          "text": [
            "Hello World from Taher A Alalfy\n"
          ]
        }
      ],
      "source": [
        "print(\"Hello World from Taher A Alalfy\")\n"
      ]
    },
    {
      "cell_type": "code",
      "source": [
        "#Ahmed Mohamed Saadawi\n",
        "print('hello world from {Ahmed Mohammedsadiwu}')"
      ],
      "metadata": {
        "id": "ZDdCDNs0Ml58"
      },
      "execution_count": null,
      "outputs": []
    },
    {
      "cell_type": "code",
      "source": [
        "print(\"hello world from zeinab gomaa mohamed\")"
      ],
      "metadata": {
        "colab": {
          "base_uri": "https://localhost:8080/"
        },
        "id": "zVpiRskronfo",
        "outputId": "a2132f43-c4f3-4e13-aad4-c9727de1b200"
      },
      "execution_count": null,
      "outputs": [
        {
          "output_type": "stream",
          "name": "stdout",
          "text": [
            "hello world from zeinab gomaa mohamed\n"
          ]
        }
      ]
    }
  ]
}