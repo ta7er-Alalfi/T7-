{
  "nbformat": 4,
  "nbformat_minor": 0,
  "metadata": {
    "colab": {
      "provenance": [],
      "include_colab_link": true
    },
    "kernelspec": {
      "name": "python3",
      "display_name": "Python 3"
    },
    "language_info": {
      "name": "python"
    }
  },
  "cells": [
    {
      "cell_type": "markdown",
      "metadata": {
        "id": "view-in-github",
        "colab_type": "text"
      },
      "source": [
        "<a href=\"https://colab.research.google.com/github/ta7er-Alalfi/T7-/blob/main/t7.ipynb\" target=\"_parent\"><img src=\"https://colab.research.google.com/assets/colab-badge.svg\" alt=\"Open In Colab\"/></a>"
      ]
    },
    {
      "cell_type": "code",
      "execution_count": null,
      "metadata": {
        "colab": {
          "base_uri": "https://localhost:8080/"
        },
        "id": "CbJfJu9CChGg",
        "outputId": "8b8a57a5-8d22-4660-f1c3-daa8a2b0d95c"
      },
      "outputs": [
        {
          "output_type": "stream",
          "name": "stdout",
          "text": [
            "Hello World from Taher A Alalfy\n"
          ]
        }
      ],
      "source": [
        "#Add Hello World from Taher\n",
        "print(\"Hello World from Taher A Alalfy\")\n"
      ]
    },
    {
      "cell_type": "code",
      "source": [
        "#amar hassan amar\n",
        "print(\"hello world from Amar hassan \")\n"
      ],
      "metadata": {
        "id": "NOh0owPJMXRR"
      },
      "execution_count": null,
      "outputs": []
    },
    {
      "cell_type": "code",
      "source": [
        "#Ahmed Mohamed Saadawi\n",
        "print('hello world from {Ahmed Mohammedsadiwu}')\n"
      ],
      "metadata": {
        "id": "ZDdCDNs0Ml58"
      },
      "execution_count": null,
      "outputs": []
    },
    {
      "cell_type": "code",
      "source": [
        "#Alromisaa Ahmed Mohammed\n",
        "print('hello world from Alromisaa Ahmed Mohammed')\n"
      ],
      "metadata": {
        "id": "5tD4kk6oDhEX",
        "outputId": "29dd3dc5-c8ef-4eeb-e2f1-50b5895d04e0",
        "colab": {
          "base_uri": "https://localhost:8080/"
        }
      },
      "execution_count": null,
      "outputs": [
        {
          "output_type": "stream",
          "name": "stdout",
          "text": [
            "hello world from Alromisaa Ahmed Mohammed\n"
          ]
        }
      ]
    },
    {
      "cell_type": "code",
      "source": [
        "#Asmaa Ahmed Mohammed\n",
        "print('Hello World from Asmaa Ahmed Mohammed ')"
      ],
      "metadata": {
        "colab": {
          "base_uri": "https://localhost:8080/"
        },
        "id": "r1z1qe6bny52",
        "outputId": "69bb7523-1a30-4b2b-cf56-b6880e605425"
      },
      "execution_count": null,
      "outputs": [
        {
          "output_type": "stream",
          "name": "stdout",
          "text": [
            "Hello World from Asmaa Ahmed Mohammed \n"
          ]
        }
      ]
    }
  ]
}