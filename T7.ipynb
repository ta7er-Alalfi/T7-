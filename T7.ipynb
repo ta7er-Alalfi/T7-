{
  "nbformat": 4,
  "nbformat_minor": 0,
  "metadata": {
    "colab": {
      "provenance": [],
      "authorship_tag": "ABX9TyNvQLJNzHYXuGefIFfEvNod",
      "include_colab_link": true
    },
    "kernelspec": {
      "name": "python3",
      "display_name": "Python 3"
    },
    "language_info": {
      "name": "python"
    }
  },
  "cells": [
    {
      "cell_type": "markdown",
      "metadata": {
        "id": "view-in-github",
        "colab_type": "text"
      },
      "source": [
        "<a href=\"https://colab.research.google.com/github/ta7er-Alalfi/T7-/blob/main/T7.ipynb\" target=\"_parent\"><img src=\"https://colab.research.google.com/assets/colab-badge.svg\" alt=\"Open In Colab\"/></a>"
      ]
    },
    {
      "cell_type": "markdown",
      "source": [
        "Add Hello World from Taher\n",
        "\n"
      ],
      "metadata": {
        "id": "2Z7Aq-irFOtj"
      }
    },
    {
      "cell_type": "code",
      "execution_count": 2,
      "metadata": {
        "colab": {
          "base_uri": "https://localhost:8080/"
        },
        "id": "CbJfJu9CChGg",
        "outputId": "70650a47-6fa8-4073-93c6-718ca0a456f2"
      },
      "outputs": [
        {
          "output_type": "stream",
          "name": "stdout",
          "text": [
            "Hello World from Taher A Alalfy\n"
          ]
        }
      ],
      "source": [
        "print(\"Hello World from Taher A Alalfy\")\n"
      ]
    }
  ]
}