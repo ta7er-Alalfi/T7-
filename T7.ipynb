{
  "nbformat": 4,
  "nbformat_minor": 0,
  "metadata": {
    "colab": {
      "provenance": [],
      "include_colab_link": true
    },
    "kernelspec": {
      "name": "python3",
      "display_name": "Python 3"
    },
    "language_info": {
      "name": "python"
    }
  },
  "cells": [
    {
      "cell_type": "markdown",
      "metadata": {
        "id": "view-in-github",
        "colab_type": "text"
      },
      "source": [
        "<a href=\"https://colab.research.google.com/github/ta7er-Alalfi/T7-/blob/main/T7.ipynb\" target=\"_parent\"><img src=\"https://colab.research.google.com/assets/colab-badge.svg\" alt=\"Open In Colab\"/></a>"
      ]
    },
    {
      "cell_type": "code",
      "execution_count": null,
      "metadata": {
        "colab": {
          "base_uri": "https://localhost:8080/"
        },
        "id": "CbJfJu9CChGg",
        "outputId": "8b8a57a5-8d22-4660-f1c3-daa8a2b0d95c"
      },
      "outputs": [
        {
          "output_type": "stream",
          "name": "stdout",
          "text": [
            "Hello World from Taher A Alalfy\n"
          ]
        }
      ],
      "source": [
        "#Add Hello World from Taher\n",
        "print(\"Hello World from Taher A Alalfy\")\n"
      ]
    },
    {
      "cell_type": "code",
      "source": [
        "#Ahmed Mohamed Saadawi\n",
        "print('hello world from {Ahmed Mohammedsadiwu}')"
      ],
      "metadata": {
        "id": "ZDdCDNs0Ml58"
      },
      "execution_count": null,
      "outputs": []
    },
    {
      "cell_type": "code",
      "source": [
        "#Alromisaa Ahmed Mohammed\n",
        "print('hello world from Alromisaa Ahmed Mohammed')"
      ],
      "metadata": {
        "id": "3yqBqJTm9TxM",
        "outputId": "10687fab-a7d2-45f5-f4e2-965bbf1d257d",
        "colab": {
          "base_uri": "https://localhost:8080/"
        }
      },
      "execution_count": 1,
      "outputs": [
        {
          "output_type": "stream",
          "name": "stdout",
          "text": [
            "hello world from Alromisaa Ahmed Mohammed\n"
          ]
        }
      ]
    }
  ]
}