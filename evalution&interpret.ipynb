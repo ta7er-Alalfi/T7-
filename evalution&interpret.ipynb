{
  "cells": [
    {
      "cell_type": "markdown",
      "metadata": {
        "id": "view-in-github",
        "colab_type": "text"
      },
      "source": [
        "<a href=\"https://colab.research.google.com/github/ta7er-Alalfi/T7-/blob/main/evalution%26interpret.ipynb\" target=\"_parent\"><img src=\"https://colab.research.google.com/assets/colab-badge.svg\" alt=\"Open In Colab\"/></a>"
      ]
    },
    {
      "cell_type": "code",
      "source": [
        "#team member :amar hassan amar mohamed\n",
        "#-----------------------------------\n",
        "y_pred = model.predict(X_test)\n",
        "rmse = np.sqrt(mean_squared_error(y_test, y_pred))\n",
        "print(f\"Root Mean Squared Error (RMSE): {rmse:.2f}\")\n",
        "from sklearn.metrics import mean_squared_error\n",
        "import numpy as np\n",
        "import pandas as pd\n",
        "\n",
        "#ااسماء المتغيرات اللازم تحطوها علشان الكود بتاعي يشتغل\n",
        "# model     -> الموديل المتدرب\n",
        "# X_train   -> بيانات التدريب\n",
        "# X_test    -> بيانات الاختبار\n",
        "# y_train   -> الهدف في التدريب\n",
        "# y_test    -> الهدف في الاختبار\n",
        "\n",
        "# 1. Evaluate model performance using RMSE\n",
        "y_pred = model.predict(X_test)\n",
        "rmse = np.sqrt(mean_squared_error(y_test, y_pred))\n",
        "print(f\"Root Mean Squared Error (RMSE): {rmse:.2f}\")\n",
        "\n",
        "# 2. Interpret coefficients feature importance\n",
        "coefficients = pd.DataFrame({\n",
        "    'Feature': X_train.columns,\n",
        "    'Coefficient': model.coef_\n",
        "}).sort_values(by='Coefficient', ascending=False)\n",
        "\n",
        "print(\"\\nTop Positive & Negative Features:\")\n",
        "print(coefficients.head(10))   # موجب\n",
        "print(coefficients.tail(10))   # سالب"
      ],
      "metadata": {
        "id": "V5NVUMXx-6CZ"
      },
      "execution_count": null,
      "outputs": []
    }
  ],
  "metadata": {
    "colab": {
      "name": "Welcome To Colab",
      "provenance": [],
      "include_colab_link": true
    },
    "kernelspec": {
      "display_name": "Python 3",
      "name": "python3"
    }
  },
  "nbformat": 4,
  "nbformat_minor": 0
}