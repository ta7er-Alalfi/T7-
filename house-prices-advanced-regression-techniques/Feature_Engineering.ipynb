import pandas as pd
import numpy as np
import matplotlib.pyplot as plt
import seaborn as sns

# Load dataset
df = pd.read_csv("train.csv")

# =========================
# Feature Engineering
# =========================

df["HouseAge"] = df["YrSold"] - df["YearBuilt"]
df["RemodAge"] = df["YrSold"] - df["YearRemodAdd"]
df["TotalSqFt"] = df["1stFlrSF"] + df["2ndFlrSF"] + df["TotalBsmtSF"]
df["TotalBaths"] = df["FullBath"] + df["HalfBath"] + df["BsmtFullBath"] + df["BsmtHalfBath"]
df["TotalPorchSF"] = df["OpenPorchSF"] + df["EnclosedPorch"] + df["3SsnPorch"] + df["ScreenPorch"]

print(df[["HouseAge","RemodAge","TotalSqFt","TotalBaths","TotalPorchSF"]].head())

# =========================
# Correlation Analysis
# =========================

corr = df.corr()["SalePrice"].sort_values(ascending=False)
print("Top correlations with SalePrice:\n", corr.head(15))
print("\nLowest correlations with SalePrice:\n", corr.tail(15))

top_features = corr.head(11).index
plt.figure(figsize=(10,8))
sns.heatmap(df[top_features].corr(), annot=True, cmap="viridis", fmt=".2f")
plt.title("Correlation Heatmap of Top Features with SalePrice")
plt.show()

# =========================
# Visualizations
# =========================

plt.figure(figsize=(6,4))
sns.scatterplot(x="TotalSqFt", y="SalePrice", data=df, alpha=0.5)
plt.title("TotalSqFt vs SalePrice")
plt.show()

plt.figure(figsize=(6,4))
sns.scatterplot(x="HouseAge", y="SalePrice", data=df, alpha=0.5, color="orange")
plt.title("HouseAge vs SalePrice")
plt.show()

plt.figure(figsize=(12,6))
order = df.groupby("Neighborhood")["SalePrice"].median().sort_values().index
sns.boxplot(x="Neighborhood", y="SalePrice", data=df, order=order)
plt.xticks(rotation=90)
plt.title("Neighborhood vs SalePrice")
plt.show()

# =========================
# Observations
# =========================
# - TotalSqFt has a strong positive correlation with SalePrice.
# - HouseAge shows a weak negative correlation.
# - Neighborhood is an important categorical variable with clear differences in median prices.
