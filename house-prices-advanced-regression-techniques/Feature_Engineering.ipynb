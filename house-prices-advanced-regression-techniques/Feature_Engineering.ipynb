{
 "cells": [
  {
   "cell_type": "markdown",
   "id": "e53ac0de",
   "metadata": {},
   "source": [
    "# 🔹 Feature Engineering\n",
    "\n",
    "في هذا الجزء قمنا بإنشاء خصائص جديدة (Engineered Features) من البيانات الأصلية بهدف تحسين دقة النموذج وتحليل العلاقة بينها وبين سعر البيع (SalePrice)."
   ]
  },
  {
   "cell_type": "markdown",
   "id": "e264fb50",
   "metadata": {},
   "source": [
    "## 1. إنشاء خصائص جديدة (New Features)\n",
    "\n",
    "- **HouseAge** = YrSold - YearBuilt (عمر المنزل منذ البناء حتى سنة البيع)  \n",
    "- **RemodAge** = YrSold - YearRemodAdd (العمر منذ آخر تجديد)  \n",
    "- **TotalSqFt** = 1stFlrSF + 2ndFlrSF + TotalBsmtSF (المساحة الكلية للمبنى)  \n",
    "- **TotalBaths** = FullBath + HalfBath + BsmtFullBath + BsmtHalfBath (إجمالي عدد الحمامات)  \n",
    "- **TotalPorchSF** = OpenPorchSF + EnclosedPorch + 3SsnPorch + ScreenPorch (إجمالي مساحة الشُرفات)"
   ]
  },
  {
   "cell_type": "code",
   "execution_count": null,
   "id": "06f4d5cc",
   "metadata": {},
   "outputs": [],
   "source": [
    "import pandas as pd\n",
    "import numpy as np\n",
    "import matplotlib.pyplot as plt\n",
    "import seaborn as sns\n",
    "\n",
    "# Load training dataset\n",
    "df = pd.read_csv(\"train.csv\")\n",
    "\n",
    "# 1. Create New Features\n",
    "df[\"HouseAge\"] = df[\"YrSold\"] - df[\"YearBuilt\"]\n",
    "df[\"RemodAge\"] = df[\"YrSold\"] - df[\"YearRemodAdd\"]\n",
    "df[\"TotalSqFt\"] = df[\"1stFlrSF\"] + df[\"2ndFlrSF\"] + df[\"TotalBsmtSF\"]\n",
    "df[\"TotalBaths\"] = df[\"FullBath\"] + df[\"HalfBath\"] + df[\"BsmtFullBath\"] + df[\"BsmtHalfBath\"]\n",
    "df[\"TotalPorchSF\"] = df[\"OpenPorchSF\"] + df[\"EnclosedPorch\"] + df[\"3SsnPorch\"] + df[\"ScreenPorch\"]\n",
    "\n",
    "df[[\"HouseAge\",\"RemodAge\",\"TotalSqFt\",\"TotalBaths\",\"TotalPorchSF\"]].head()"
   ]
  },
  {
   "cell_type": "markdown",
   "id": "dc5722cb",
   "metadata": {},
   "source": [
    "## 2. تحليل الارتباط (Correlation Analysis)\n",
    "\n",
    "قمنا بحساب معامل الارتباط (Correlation) بين الخصائص الجديدة وسعر البيع. نلاحظ أن:\n",
    "\n",
    "- **TotalSqFt** له ارتباط قوي موجب مع SalePrice.  \n",
    "- **OverallQual** من أقوى المؤشرات على السعر.  \n",
    "- **HouseAge** له ارتباط ضعيف سلبي (المنازل الأقدم تميل لأن تكون أرخص)."
   ]
  },
  {
   "cell_type": "code",
   "execution_count": null,
   "id": "8bbf3e4e",
   "metadata": {},
   "outputs": [],
   "source": [
    "# Correlation with SalePrice\n",
    "corr = df.corr()[\"SalePrice\"].sort_values(ascending=False)\n",
    "print(\"Top correlations with SalePrice:\\n\", corr.head(15))\n",
    "print(\"\\nLowest correlations with SalePrice:\\n\", corr.tail(15))\n",
    "\n",
    "# Heatmap of top correlations\n",
    "top_features = corr.head(11).index\n",
    "plt.figure(figsize=(10,8))\n",
    "sns.heatmap(df[top_features].corr(), annot=True, cmap=\"viridis\", fmt=\".2f\")\n",
    "plt.title(\"Correlation Heatmap of Top Features with SalePrice\")\n",
    "plt.show()"
   ]
  },
  {
   "cell_type": "markdown",
   "id": "4c673f9d",
   "metadata": {},
   "source": [
    "## 3. Visualizations\n",
    "\n",
    "### Scatter Plots\n",
    "- **TotalSqFt vs SalePrice**: يوضح أن المساحات الأكبر ترتبط بأسعار أعلى.  \n",
    "- **HouseAge vs SalePrice**: يوضح أن المنازل الأقدم غالبًا أسعارها أقل."
   ]
  },
  {
   "cell_type": "code",
   "execution_count": null,
   "id": "10f284e4",
   "metadata": {},
   "outputs": [],
   "source": [
    "# Scatter: TotalSqFt vs SalePrice\n",
    "plt.figure(figsize=(6,4))\n",
    "sns.scatterplot(x=\"TotalSqFt\", y=\"SalePrice\", data=df, alpha=0.5)\n",
    "plt.title(\"TotalSqFt vs SalePrice\")\n",
    "plt.show()\n",
    "\n",
    "# Scatter: HouseAge vs SalePrice\n",
    "plt.figure(figsize=(6,4))\n",
    "sns.scatterplot(x=\"HouseAge\", y=\"SalePrice\", data=df, alpha=0.5, color=\"orange\")\n",
    "plt.title(\"HouseAge vs SalePrice\")\n",
    "plt.show()"
   ]
  },
  {
   "cell_type": "markdown",
   "id": "200771ce",
   "metadata": {},
   "source": [
    "### Boxplot (Neighborhood vs SalePrice)\n",
    "\n",
    "- الحي (Neighborhood) من أهم الخصائص المؤثرة على السعر.  \n",
    "- بعض الأحياء تتميز بمتوسط أسعار أعلى بكثير من غيرها (مثل NridgHt, StoneBr, NoRidge)."
   ]
  },
  {
   "cell_type": "code",
   "execution_count": null,
   "id": "c4e0b198",
   "metadata": {},
   "outputs": [],
   "source": [
    "plt.figure(figsize=(12,6))\n",
    "order = df.groupby(\"Neighborhood\")[\"SalePrice\"].median().sort_values().index\n",
    "sns.boxplot(x=\"Neighborhood\", y=\"SalePrice\", data=df, order=order)\n",
    "plt.xticks(rotation=90)\n",
    "plt.title(\"Neighborhood vs SalePrice\")\n",
    "plt.show()"
   ]
  },
  {
   "cell_type": "markdown",
   "id": "e19924c7",
   "metadata": {},
   "source": [
    "## 📌 Insights\n",
    "\n",
    "- المساحة الكلية (TotalSqFt) والجودة العامة (OverallQual) من أقوى العوامل المحددة لسعر البيع.  \n",
    "- عمر التجديد (RemodAge) والعمر الكلي (HouseAge) يظهران علاقة عكسية ضعيفة.  \n",
    "- الموقع (Neighborhood) يظل أحد أهم العوامل غير العددية المؤثرة بشكل كبير على السعر."
   ]
  }
 ],
 "metadata": {},
 "nbformat": 4,
 "nbformat_minor": 5
}
